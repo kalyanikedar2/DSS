{
 "cells": [
  {
   "cell_type": "markdown",
   "id": "84e2ab36",
   "metadata": {},
   "source": [
    "# CENTRAL TENDANCY OF MEASURES MEAN,MEDIAN,MODE"
   ]
  },
  {
   "cell_type": "code",
   "execution_count": 1,
   "id": "6e31bfd6",
   "metadata": {},
   "outputs": [],
   "source": [
    "#Name : Kalyani Haridas Kedar\n",
    "#Roll no. 34\n",
    "#sub:E.T.1\n",
    "#Section :3C"
   ]
  },
  {
   "cell_type": "code",
   "execution_count": 1,
   "id": "a54ea482",
   "metadata": {},
   "outputs": [],
   "source": [
    "# aim: to perform central tendancy of measures"
   ]
  },
  {
   "cell_type": "code",
   "execution_count": 2,
   "id": "48405519",
   "metadata": {},
   "outputs": [],
   "source": [
    "age=[20,20,20,21,22,19,18,23,20,23,23,19,20]"
   ]
  },
  {
   "cell_type": "code",
   "execution_count": 3,
   "id": "35e356a5",
   "metadata": {},
   "outputs": [
    {
     "data": {
      "text/plain": [
       "[20, 20, 20, 21, 22, 19, 18, 23, 20, 23, 23, 19, 20]"
      ]
     },
     "execution_count": 3,
     "metadata": {},
     "output_type": "execute_result"
    }
   ],
   "source": [
    "age"
   ]
  },
  {
   "cell_type": "code",
   "execution_count": 4,
   "id": "53552463",
   "metadata": {},
   "outputs": [],
   "source": [
    "import statistics"
   ]
  },
  {
   "cell_type": "code",
   "execution_count": 6,
   "id": "223b9f24",
   "metadata": {},
   "outputs": [],
   "source": [
    "mean=statistics.mean(age)"
   ]
  },
  {
   "cell_type": "code",
   "execution_count": 7,
   "id": "080af640",
   "metadata": {},
   "outputs": [
    {
     "data": {
      "text/plain": [
       "20.615384615384617"
      ]
     },
     "execution_count": 7,
     "metadata": {},
     "output_type": "execute_result"
    }
   ],
   "source": [
    "mean"
   ]
  },
  {
   "cell_type": "code",
   "execution_count": 8,
   "id": "39883dfa",
   "metadata": {},
   "outputs": [],
   "source": [
    "median=statistics.median(age)"
   ]
  },
  {
   "cell_type": "code",
   "execution_count": 9,
   "id": "f7cd22d0",
   "metadata": {},
   "outputs": [
    {
     "data": {
      "text/plain": [
       "20"
      ]
     },
     "execution_count": 9,
     "metadata": {},
     "output_type": "execute_result"
    }
   ],
   "source": [
    "median"
   ]
  },
  {
   "cell_type": "code",
   "execution_count": 10,
   "id": "8db6a7c5",
   "metadata": {},
   "outputs": [],
   "source": [
    "mode=statistics.mode(age)"
   ]
  },
  {
   "cell_type": "code",
   "execution_count": 11,
   "id": "d658987e",
   "metadata": {},
   "outputs": [
    {
     "data": {
      "text/plain": [
       "20"
      ]
     },
     "execution_count": 11,
     "metadata": {},
     "output_type": "execute_result"
    }
   ],
   "source": [
    "mode"
   ]
  },
  {
   "cell_type": "code",
   "execution_count": 12,
   "id": "eb6f4b65",
   "metadata": {},
   "outputs": [
    {
     "name": "stdout",
     "output_type": "stream",
     "text": [
      "20\n"
     ]
    }
   ],
   "source": [
    "print(median)"
   ]
  },
  {
   "cell_type": "code",
   "execution_count": null,
   "id": "628ef160",
   "metadata": {},
   "outputs": [],
   "source": []
  }
 ],
 "metadata": {
  "kernelspec": {
   "display_name": "Python 3 (ipykernel)",
   "language": "python",
   "name": "python3"
  },
  "language_info": {
   "codemirror_mode": {
    "name": "ipython",
    "version": 3
   },
   "file_extension": ".py",
   "mimetype": "text/x-python",
   "name": "python",
   "nbconvert_exporter": "python",
   "pygments_lexer": "ipython3",
   "version": "3.9.7"
  }
 },
 "nbformat": 4,
 "nbformat_minor": 5
}

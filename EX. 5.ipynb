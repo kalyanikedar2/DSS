{
 "cells": [
  {
   "cell_type": "markdown",
   "id": "1b69b40e",
   "metadata": {},
   "source": [
    "# Array creation"
   ]
  },
  {
   "cell_type": "code",
   "execution_count": 1,
   "id": "8664c79d",
   "metadata": {},
   "outputs": [],
   "source": [
    "#Name : kalyani Haridas kedar\n",
    "#Roll no. 34\n",
    "#sub:E.T.1\n",
    "#Section :3C"
   ]
  },
  {
   "cell_type": "code",
   "execution_count": 1,
   "id": "e32c8b97",
   "metadata": {},
   "outputs": [],
   "source": [
    "#Aim:Creation of 1D, 2D and multidimensional array (Data cube/OLAP)using numpy"
   ]
  },
  {
   "cell_type": "code",
   "execution_count": 16,
   "id": "81b7bd07",
   "metadata": {},
   "outputs": [],
   "source": [
    "import numpy as np"
   ]
  },
  {
   "cell_type": "code",
   "execution_count": 17,
   "id": "53537c14",
   "metadata": {},
   "outputs": [],
   "source": [
    " a1 = np.array([10, 20, 30, 40, 50])"
   ]
  },
  {
   "cell_type": "code",
   "execution_count": 18,
   "id": "3b9b1439",
   "metadata": {},
   "outputs": [
    {
     "data": {
      "text/plain": [
       "array([10, 20, 30, 40, 50])"
      ]
     },
     "execution_count": 18,
     "metadata": {},
     "output_type": "execute_result"
    }
   ],
   "source": [
    "a1"
   ]
  },
  {
   "cell_type": "code",
   "execution_count": 19,
   "id": "74fdbb3f",
   "metadata": {},
   "outputs": [],
   "source": [
    " a2=np.array([[10,20,30,40],[60,70,80,90]])"
   ]
  },
  {
   "cell_type": "code",
   "execution_count": 20,
   "id": "7b8c35cb",
   "metadata": {},
   "outputs": [
    {
     "data": {
      "text/plain": [
       "array([[10, 20, 30, 40],\n",
       "       [60, 70, 80, 90]])"
      ]
     },
     "execution_count": 20,
     "metadata": {},
     "output_type": "execute_result"
    }
   ],
   "source": [
    "a2"
   ]
  },
  {
   "cell_type": "code",
   "execution_count": 21,
   "id": "a63ca6af",
   "metadata": {},
   "outputs": [],
   "source": [
    "a3=np.array([['R1','R2','R3','R4'],['ABC','XYZ','PQR','EFG'],[40,55,64,22]])"
   ]
  },
  {
   "cell_type": "code",
   "execution_count": 22,
   "id": "815ee728",
   "metadata": {},
   "outputs": [
    {
     "data": {
      "text/plain": [
       "array([['R1', 'R2', 'R3', 'R4'],\n",
       "       ['ABC', 'XYZ', 'PQR', 'EFG'],\n",
       "       ['40', '55', '64', '22']], dtype='<U11')"
      ]
     },
     "execution_count": 22,
     "metadata": {},
     "output_type": "execute_result"
    }
   ],
   "source": [
    "a3"
   ]
  },
  {
   "cell_type": "code",
   "execution_count": null,
   "id": "35685828",
   "metadata": {},
   "outputs": [],
   "source": []
  }
 ],
 "metadata": {
  "kernelspec": {
   "display_name": "Python 3 (ipykernel)",
   "language": "python",
   "name": "python3"
  },
  "language_info": {
   "codemirror_mode": {
    "name": "ipython",
    "version": 3
   },
   "file_extension": ".py",
   "mimetype": "text/x-python",
   "name": "python",
   "nbconvert_exporter": "python",
   "pygments_lexer": "ipython3",
   "version": "3.9.7"
  }
 },
 "nbformat": 4,
 "nbformat_minor": 5
}
